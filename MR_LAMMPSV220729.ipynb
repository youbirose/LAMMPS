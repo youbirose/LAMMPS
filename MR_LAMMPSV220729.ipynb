{
 "cells": [
  {
   "cell_type": "markdown",
   "id": "reported-senator",
   "metadata": {},
   "source": [
    "\\title{Prémiers pas avec LAMMPS}\n",
    "\\author{YOUBI Marie Rose,rose.youbi@facsciences-uy1.cm }\n",
    "\\maketitle"
   ]
  },
  {
   "cell_type": "markdown",
   "id": "extreme-meaning",
   "metadata": {},
   "source": [
    "## Définition et déscription"
   ]
  },
  {
   "cell_type": "markdown",
   "id": "uniform-preservation",
   "metadata": {},
   "source": [
    "LAMMPS est un code de dynamique moléculaire (MD) classique qui modélise des ensembles de particules à l'état liquide, solide ou gazeux. Il utilise une variété de potentiels interatomiques (champs de force) et de conditions aux limites pour modéliser des systèmes macroscopiques tel que **les polymères, les molécules biologiques, solides (métaux, céramiques, oxydes) etc.** en 2d ou 3d.\\\n",
    "Écrit en C++ et nécessite un compilateur qui est au moins compatible avec la norme C++-11, il peut être construit et exécuté sur importe quel type d'ordinateur mais sera plus efficace sur machines parallèles qui supporte la bibliothèque de passage de messages MPI. \n",
    "\n"
   ]
  },
  {
   "cell_type": "markdown",
   "id": "textile-redhead",
   "metadata": {},
   "source": [
    "## Installation  sur linux\n",
    "### Téléchargement"
   ]
  },
  {
   "cell_type": "markdown",
   "id": "cooked-legislature",
   "metadata": {},
   "source": [
    "Les différents étapes pour télcharger LAMMPS sont :\n",
    "1. Télecharger Lammps sur le site web, https://www.lammps.org/download.html ;\n",
    "1. Choisir la version la plus récente et stable;\n",
    "1. Cliquer sur le bouton \"download now\" . \n"
   ]
  },
  {
   "cell_type": "markdown",
   "id": "careful-alcohol",
   "metadata": {},
   "source": [
    "### Installation "
   ]
  },
  {
   "cell_type": "markdown",
   "id": "general-cabinet",
   "metadata": {},
   "source": [
    "Pour installer, je vous invite à suivre les étapes données dans la vidéo suivante : https://www.youtube.com/watch?v=3Tb8SsO0Dzg&t=87s\n",
    "\n",
    "**NB :** Dans cette vidéo l'excecutable intaller est **mpi** mais nous utilisons **serial**. Ne vous inquiéter pas le processus est le même. "
   ]
  },
  {
   "cell_type": "markdown",
   "id": "cross-computer",
   "metadata": {},
   "source": [
    "## Executer LAMMPS dans jupyter notebook\n",
    "### Télécharger le fichier input\n",
    "\n",
    "Pour télecharger un fichier input, on ajoute la commande `%%writefile nom du script.in` au début du notebook. Ainsi, le contenu sera sauvegarder dans un fichier `.in` ."
   ]
  },
  {
   "cell_type": "code",
   "execution_count": 3,
   "id": "interesting-percentage",
   "metadata": {},
   "outputs": [
    {
     "name": "stdout",
     "output_type": "stream",
     "text": [
      "Overwriting calc_fcc.in\n"
     ]
    }
   ],
   "source": [
    "%%writefile calc_fcc.in\n",
    "######################################\n",
    "# LAMMPS INPUT SCRIPT\n",
    "# Find minimum energy fcc (face-centered cubic) atomic configuration\n",
    "# Mark Tschopp\n",
    "# Syntax, lmp_exe < calc_fcc.in\n",
    "\n",
    "######################################\n",
    "# INITIALIZATION\n",
    "clear \n",
    "units metal \n",
    "dimension 3 \n",
    "boundary p p p \n",
    "atom_style atomic \n",
    "atom_modify map array\n",
    "\n",
    "######################################\n",
    "# ATOM DEFINITION\n",
    "lattice fcc 4 orient x 1 1 0 orient y -1 1 0 orient z 0 0 1  \n",
    "region box block 0 1 0 1 0 1 units lattice\n",
    "create_box 1 box\n",
    "create_atoms 1 box\n",
    "replicate 1 1 1\n",
    "\n",
    "######################################\n",
    "# DEFINE INTERATOMIC POTENTIAL\n",
    "pair_style eam/alloy \n",
    "pair_coeff * * Al99.eam.alloy Al\n",
    "neighbor 2.0 bin \n",
    "neigh_modify delay 10 check yes \n",
    " \n",
    "######################################\n",
    "# DEFINE COMPUTES \n",
    "compute eng all pe/atom \n",
    "compute eatoms all reduce sum c_eng \n",
    "\n",
    "#####################################################\n",
    "# MINIMIZATION\n",
    "reset_timestep 0 \n",
    "fix 1 all box/relax iso 0.0 vmax 0.001\n",
    "thermo 10 \n",
    "thermo_style custom step pe lx ly lz press c_eatoms \n",
    "min_style cg \n",
    "minimize 1e-25 1e-25 5000 10000 \n",
    "\n",
    "variable natoms equal \"count(all)\" \n",
    "variable teng equal \"c_eatoms\"\n",
    "variable length equal \"lx\"\n",
    "variable ecoh equal \"v_teng/v_natoms\"\n",
    "\n",
    "print \"Total energy (eV) = ${teng};\"\n",
    "print \"Number of atoms = ${natoms};\"\n",
    "print \"Lattice constant (Angstoms) = ${length};\"\n",
    "print \"Cohesive energy (eV) = ${ecoh};\"\n",
    "\n",
    "print \"All done!\""
   ]
  },
  {
   "cell_type": "markdown",
   "id": "soviet-subject",
   "metadata": {},
   "source": [
    "On peut également utiliser Python pour ecrire le script en ouvrant un fichier et y ajouter tout le contenu neccessaire."
   ]
  },
  {
   "cell_type": "code",
   "execution_count": 4,
   "id": "incorporated-stability",
   "metadata": {},
   "outputs": [],
   "source": [
    "file = open(\"calc_fcc.in\", \"w\")\n",
    "file.write(\"clear\\n \")\n",
    "file.write(\"units metal \\n \")\n",
    "file.write(\"dimension 3 \\n \")\n",
    "file.write(\"boundary p p p \\n \")\n",
    "file.write(\"atom_style atomic \\n \")\n",
    "file.write(\"atom_modify map array \\n \") \n",
    "file.write(\"lattice fcc 4 \\n \")\n",
    "file.write(\"region box block 0 1 0 1 0 1 units lattice \\n \")\n",
    "file.write(\"create_box 1 box \\n \")\n",
    "file.write(\"lattice fcc 4 orient x 1 0 0 orient y 0 1 0 orient z 0 0 1\\n \")\n",
    "file.write(\"create_atoms 1 box \\n \")\n",
    "file.write(\"replicate 1 1 1\\n \")\n",
    "file.write(\"pair_style eam/alloy\\n \") \n",
    "file.write(\"pair_coeff * * Al99.eam.alloy Al\\n \")\n",
    "file.write(\"neighbor 2.0 bin \\n \")\n",
    "file.write(\"neigh_modify delay 10 check yes\\n \")\n",
    "file.write(\"compute eng all pe/atom \\n \")\n",
    "file.write(\"compute eatoms all reduce sum c_eng \\n \")\n",
    "file.write(\"reset_timestep 0 \\n \")\n",
    "file.write(\"fix 1 all box/relax iso 0.0 vmax 0.001\\n \")\n",
    "file.write(\"thermo 10 \\n \")\n",
    "file.write(\"thermo_style custom step pe lx ly lz press c_eatoms \\n \")\n",
    "file.write(\"min_style cg \\n \")\n",
    "file.write(\"minimize 1e-25 1e-25 5000 10000 \\n \")\n",
    "file.write(\"variable natoms equal \\\"count(all)\\\"\\n \") \n",
    "file.write(\"variable teng equal \\\"c_eatoms\\\"\\n \")\n",
    "file.write(\"variable length equal \\\"lx\\\"\\n \")\n",
    "file.write(\"variable ecoh equal \\\"v_teng/v_natoms\\\"\\n \")\n",
    "file.write(\"print \\\"Total energy (eV) = ${teng};\\\"\\n \")\n",
    "file.write(\"print \\\"Number of atoms = ${natoms};\\\"\\n \")\n",
    "file.write(\"print \\\"Lattice constant (Angstoms) = ${length};\\\"\\n \")\n",
    "file.write(\"print \\\"Cohesive energy (eV) = ${ecoh};\\\"\\n \")\n",
    "file.write(\"print \\\"All done!\\\"\\n \")\n",
    "file.close()"
   ]
  },
  {
   "cell_type": "markdown",
   "id": "russian-franklin",
   "metadata": {},
   "source": [
    "### Comprendre les differentes parties du script\n",
    "\n",
    "Le `#` permet de mettre en comentaire. c'est à dire que tout ce qui est écrit après le `#` n'est pas prise en compte lors de l'execution de fichier."
   ]
  },
  {
   "cell_type": "markdown",
   "id": "emerging-cement",
   "metadata": {},
   "source": [
    "1. La première partie nommée **initialize Simulation** définie comme suite :\n",
    "<br>\n",
    "<div class=\"alert alert-block alert-info\">\n",
    "# ---------- Initialize Simulation ---------------------  <br>\n",
    "clear  <br>\n",
    "units metal  <br>\n",
    "dimension 3  <br>\n",
    "boundary p p p  <br>\n",
    "atom_style atomic  <br>\n",
    "atom_modify map array <br>\n",
    "</div>\n",
    "\n",
    "Initialise les simulations. La commande `clear` efface toute la mémoire. La commande `units` spécifie les unités qui seront utilisées pour le reste de la simulation par exemple `metal` utilise Angströms et eV comme unité de base (on peut aussi utiliser `lj`). La commande `dimension 3` que la simulation sera fait en 3D (on peut également utiliser le 2D ou le 1D). Le `boundary p p p` spécifie que notre système sera périodiques dans les directions x, y et z (on peut aussi utiliser `s s s` pour les systèmes non pèriodiques).\n",
    "\n",
    "2. La deuxième partie nommée **Création des atomes** définie par : \n",
    "<br>\n",
    "<div class=\"alert alert-block alert-info\">\n",
    "# ---------- Create Atoms ---------------------  <br>\n",
    "lattice \tfcc 4 <br>\n",
    "region\tbox block 0 1 0 1 0 1 units lattice <br>\n",
    "create_box\t1 box <br> <br>\n",
    "    \n",
    "lattice\tfcc 4 orient x 1 0 0 orient y 0 1 0 orient z 0 0 1   <br>\n",
    "create_atoms 1 box <br>\n",
    "replicate 1 1 1 <br></div>\n",
    "\n",
    "Permet de définir les paramèttres des atomes à utiliser.\n",
    "\n",
    "La commande `lattice` spécifie quel type de réseau est utilisé (**fcc, bcc, hcp**, etc.) et le nombre qui suit spécifie la constante du réseau. La commande `region` spécifie la boite de simulation et ses dimensions. Ici, nous avons utilisé des unités de réseau (*units lattice*) et spécifié que la boîte de simulation doit être d'une unité de réseau dans chaque direction. La commande `create_box` qui suit utilisera les paramètres indiqués dans la commande `region` pour créer réellement la boîte. Le chiffre placer devant specifie le nombre de boite créer.  La commande `replicate` peut être utilisée pour répliquer la cellule périodique dans chaque direction.\n",
    "\n",
    "3. La troisième partie nommée **Definir le potentiel interatomique** définie par :\n",
    "<br>\n",
    "<div class=\"alert alert-block alert-info\">\n",
    "# ---------- Define Interatomic Potential --------------------- <br>\n",
    "pair_style eam/alloy  <br>\n",
    "pair_coeff * * Al99.eam.alloy Al <br>\n",
    "neighbor 2.0 bin  <br>\n",
    "neigh_modify delay 10 check yes  <br>\n",
    "</div>\n",
    "\n",
    "La commande `pair_style` spécifie le type de potentiel interatomique qui sera utilisé. La commande `pair_coeff` spécifie le fichier dans lequel les coefficients de potentiel de paire sont stockés. L'extension de fichier pour le fichier de potentiel interatomique peut parfois donner un indice sur le format utilisé.\n",
    "\n",
    "Exemple: __eam.alloy = eam/alliage__.\n",
    "\n",
    "4. La quatrième partie nommée **Définir les paramètres** définie par :\n",
    "<br>\n",
    "<br>\n",
    "<div class=\"alert alert-block alert-info\">\n",
    "# ---------- Define Settings --------------------- <br>\n",
    "compute eng all pe/atom <br>\n",
    "compute eatoms all reduce sum c_eng <br>\n",
    "</div>\n",
    "\n",
    "Dans la première commande `compute`, une variable nommée `eng` est définie pour stocker l'énergie potentielle de chaque atome. Dans la deuxième commande `compute`, une variable nommée `eatoms` est définie pour stocker la somme de toutes les valeurs `eng`. C'est juste pour montrer comment utiliser les calculs avec des variables définies par l'utilisateur. \n",
    "\n",
    "**NB :** La colonne d'énergie `pe` pendant la minimisation est équivalente à la colonne `c_eatoms`, comme prévu.\n",
    "\n",
    "5. La cinquième partie nommée **Execution de minimisation** définie par :\n",
    "<br>\n",
    "<div class=\"alert alert-block alert-info\">\n",
    "# ---------- Run Minimization --------------------- <br> \n",
    "reset_timestep 0  <br>\n",
    "fix 1 all box/relax iso 0.0 vmax 0.001 <br>\n",
    "thermo 10  <br>\n",
    "thermo_style custom step pe lx ly lz press c_eatoms  <br>\n",
    "min_style cg  <br>\n",
    "minimize 1e-25 1e-25 5000 10000   <br>\n",
    "</div>\n",
    "\n",
    "%%Le reset_timestep fait exactement cela.\n",
    "        La commande `fix` utilise le paramètre `box/relax`, dans lequel toutes les directions (`iso`) sont relâchées à une pression de `0,0 Pa` pour tous les atomes (`all`). La commande `thermo` spécifie la sortie pendant la minimisation. `thermo_style` spécifie quel type de sortie est affiché à l'écran. Ici, on utilise une liste de mésures `custom`, y compris le `step`, l'énergie potentielle (`pe`), la longueur de la boîte en x, y et z (`lx, ly, lz`, respectivement), la `press`ion et la variable calculée `eatoms`. Le `min_style` spécifie que le gradient conjugué (`cg`) sera utilisé pour la minimisation et le `minimize` démarre la minimisation. \n",
    " %%*c'est-à-dire*, les limites des cellules de simulation sont assouplies de la constante de réseau spécifiée (4 Angströms) à la constante de réseau réelle (4,05 Angströms).\n",
    "\n",
    "6. La sixième partie nommée **Execution de minimisation** définie par :\n",
    "<br>\n",
    "<div class=\"alert alert-block alert-info\">\n",
    "variable natoms equal \"count(all)\" <br>\n",
    "variable teng equal \"c_eatoms\" <br>\n",
    "variable length equal \"lx\" <br>\n",
    "variable ecoh equal \"v_teng/v_natoms\" \n",
    "</div>\n",
    "\n",
    "Cette section définit certaines variables, telles que le nombre d'atomes `natom`, `teng` pour l'énergie potentielle totale,`length` pour la longueur de la cellule de simulation et `ecoh` pour l'énergie de cohésion de Al (puisque c'est le potentiel de Al qu'on utilise).\n",
    "\n",
    "<br>\n",
    "<div class=\"alert alert-block alert-info\">\n",
    "print \"Total energy (eV) = \\${teng};\" <br>\n",
    "print \"Number of atoms = \\${natoms};\" <br>\n",
    "print \"Lattice constant (Angstoms) = \\${length};\" <br>\n",
    "print \"Cohesive energy (eV) = \\${ecoh};\" <br>\n",
    "print \"All done!\"\n",
    "</div>\n",
    "\n",
    "Cette section imprime ces valeurs à l'écran et dans le fichier journal. \n",
    "Le `${}` est utilisé pour insérer les variables définies précédemment.\n"
   ]
  },
  {
   "cell_type": "markdown",
   "id": "wanted-deployment",
   "metadata": {},
   "source": [
    "### Télecharger le potentiel interatomique à tuliser\n",
    "\n",
    "Pour télechareger le potentiel interatomique dont-on a besoin, on peux :\n",
    "1.  Accédez à la page Web du potentiel interatomique du NIST, https://www.ctcms.nist.gov/potentials/\n",
    "1. Cliquez sur l'atome dont le potentiel veux être télécharger (__Al__ pour un potentiel d'élément unique en aluminium)\n",
    "1. Cliquez sur le potentiel de votre choix. Pour cet exemple, utilisez le potentiel Mishin*et al.*, Al99.eam.alloy\n",
    "1. Enregistrez-le dans le même répertoire que l'exécutable LAMMPS. \n",
    "si vous êtes sur linux, vous pouvez utiliser la commande suivante pour télécharger `wget -c + lien du site`\n",
    "\n",
    "**Exemple:** `wget -c https://www.ctcms.nist.gov/potentials/Download/1999--Mishin-Y-Farkas-D-Mehl-M-J-Papaconstantopoulos-D-A--Al/2/Al99.eam.alloy`"
   ]
  },
  {
   "cell_type": "markdown",
   "id": "subjective-compilation",
   "metadata": {},
   "source": [
    "## Executer en utilisant LAMMPS dans jupyter notebook"
   ]
  },
  {
   "cell_type": "markdown",
   "id": "further-planning",
   "metadata": {},
   "source": [
    "L'execution du fichier input est fait à partir de la commande ` LAMMPS_executable < input(file)`.\n",
    "\n",
    "Si le fichier input n'est pas dans le même dossier que l'executable, vous devriez définir le chemin vers l'executable afin de pouvoir executer le fichier "
   ]
  },
  {
   "cell_type": "code",
   "execution_count": 5,
   "id": "professional-calculation",
   "metadata": {},
   "outputs": [
    {
     "name": "stdout",
     "output_type": "stream",
     "text": [
      "LAMMPS (3 Mar 2020)\n",
      "Lattice spacing in x,y,z = 4 4 4\n",
      "Created orthogonal box = (0 0 0) to (4 4 4)\n",
      "  1 by 1 by 1 MPI processor grid\n",
      "Lattice spacing in x,y,z = 4 4 4\n",
      "Created 4 atoms\n",
      "  create_atoms CPU = 0.000406981 secs\n",
      "Replicating atoms ...\n",
      "  orthogonal box = (0 0 0) to (4 4 4)\n",
      "  1 by 1 by 1 MPI processor grid\n",
      "  4 atoms\n",
      "  replicate CPU = 0.00079298 secs\n",
      "WARNING: Using 'neigh_modify every 1 delay 0 check yes' setting during minimization (../min.cpp:190)\n",
      "Neighbor list info ...\n",
      "  update every 1 steps, delay 0 steps, check yes\n",
      "  max neighbors/atom: 2000, page size: 100000\n",
      "  master list distance cutoff = 8.28721\n",
      "  ghost atom cutoff = 8.28721\n",
      "  binsize = 4.1436, bins = 1 1 1\n",
      "  1 neighbor lists, perpetual/occasional/extra = 1 0 0\n",
      "  (1) pair eam/alloy, perpetual\n",
      "      attributes: half, newton on\n",
      "      pair build: half/bin/atomonly/newton\n",
      "      stencil: half/bin/3d/newton\n",
      "      bin: standard\n",
      "Setting up cg style minimization ...\n",
      "  Unit style    : metal\n",
      "  Current step  : 0\n",
      "WARNING: Energy due to 1 extra global DOFs will be included in minimizer energies\n",
      "Per MPI rank memory allocation (min/avg/max) = 4.495 | 4.495 | 4.495 Mbytes\n",
      "Step PotEng Lx Ly Lz Press c_eatoms \n",
      "       0   -13.417787            4            4            4     29590.11   -13.417787 \n",
      "      10   -13.439104         4.04         4.04         4.04    5853.9553   -13.439104 \n",
      "      19       -13.44    4.0500047    4.0500047    4.0500047 -2.9409537e-10       -13.44 \n",
      "Loop time of 0.00189495 on 1 procs for 19 steps with 4 atoms\n",
      "\n",
      "50.4% CPU use with 1 MPI tasks x no OpenMP threads\n",
      "\n",
      "Minimization stats:\n",
      "  Stopping criterion = energy tolerance\n",
      "  Energy initial, next-to-last, final = \n",
      "        -13.4177872966     -13.4399999527     -13.4399999527\n",
      "  Force two-norm initial, final = 3.54599 3.61316e-14\n",
      "  Force max component initial, final = 3.54599 3.61302e-14\n",
      "  Final line search alpha, max atom move = 1 3.61302e-14\n",
      "  Iterations, force evaluations = 19 26\n",
      "\n",
      "MPI task timing breakdown:\n",
      "Section |  min time  |  avg time  |  max time  |%varavg| %total\n",
      "---------------------------------------------------------------\n",
      "Pair    | 0.0012453  | 0.0012453  | 0.0012453  |   0.0 | 65.71\n",
      "Neigh   | 0          | 0          | 0          |   0.0 |  0.00\n",
      "Comm    | 0.00016379 | 0.00016379 | 0.00016379 |   0.0 |  8.64\n",
      "Output  | 2.718e-05  | 2.718e-05  | 2.718e-05  |   0.0 |  1.43\n",
      "Modify  | 0          | 0          | 0          |   0.0 |  0.00\n",
      "Other   |            | 0.0004587  |            |       | 24.21\n",
      "\n",
      "Nlocal:    4 ave 4 max 4 min\n",
      "Histogram: 1 0 0 0 0 0 0 0 0 0\n",
      "Nghost:    662 ave 662 max 662 min\n",
      "Histogram: 1 0 0 0 0 0 0 0 0 0\n",
      "Neighs:    280 ave 280 max 280 min\n",
      "Histogram: 1 0 0 0 0 0 0 0 0 0\n",
      "\n",
      "Total # of neighbors = 280\n",
      "Ave neighs/atom = 70\n",
      "Neighbor list builds = 0\n",
      "Dangerous builds = 0\n",
      "Total energy (eV) = -13.4399999527351;\n",
      "Number of atoms = 4;\n",
      "Lattice constant (Angstoms) = 4.05000466178543;\n",
      "Cohesive energy (eV) = -3.35999998818377;\n",
      "All done!\n",
      "Total wall time: 0:00:00\n"
     ]
    }
   ],
   "source": [
    "!\"/media/mr-youbi/MRLOGICIEL/lammps-3Mar2020/lammps-3Mar20/src/lmp_serial\" < calc_fcc.in"
   ]
  },
  {
   "cell_type": "code",
   "execution_count": null,
   "id": "fluid-ordering",
   "metadata": {},
   "outputs": [],
   "source": []
  }
 ],
 "metadata": {
  "author": "Prémiers pas avec LAMMPS",
  "kernelspec": {
   "display_name": "Python 3",
   "language": "python",
   "name": "python3"
  },
  "language_info": {
   "codemirror_mode": {
    "name": "ipython",
    "version": 3
   },
   "file_extension": ".py",
   "mimetype": "text/x-python",
   "name": "python",
   "nbconvert_exporter": "python",
   "pygments_lexer": "ipython3",
   "version": "3.9.2"
  },
  "latex_envs": {
   "LaTeX_envs_menu_present": true,
   "autoclose": false,
   "autocomplete": true,
   "bibliofile": "biblio.bib",
   "cite_by": "apalike",
   "current_citInitial": 1,
   "eqLabelWithNumbers": true,
   "eqNumInitial": 1,
   "hotkeys": {
    "equation": "Ctrl-E",
    "itemize": "Ctrl-I"
   },
   "labels_anchors": false,
   "latex_user_defs": false,
   "report_style_numbering": false,
   "user_envs_cfg": false
  },
  "nbTranslate": {
   "displayLangs": [
    "*"
   ],
   "hotkey": "alt-t",
   "langInMainMenu": true,
   "sourceLang": "en",
   "targetLang": "fr",
   "useGoogleTranslate": true
  },
  "toc": {
   "base_numbering": 1,
   "nav_menu": {},
   "number_sections": true,
   "sideBar": true,
   "skip_h1_title": false,
   "title_cell": "Table of Contents",
   "title_sidebar": "Contents",
   "toc_cell": false,
   "toc_position": {},
   "toc_section_display": true,
   "toc_window_display": false
  }
 },
 "nbformat": 4,
 "nbformat_minor": 5
}
